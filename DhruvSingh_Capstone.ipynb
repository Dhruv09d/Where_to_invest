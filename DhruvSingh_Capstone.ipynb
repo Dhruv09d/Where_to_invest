{
 "cells": [
  {
   "cell_type": "markdown",
   "metadata": {},
   "source": [
    "# Content \n",
    "## Task 1 - Importing files and Reading Data\n",
    "## Task 2 - Checking for Missing Data\n",
    "## Task 3 - Adding New Columns \n",
    "## Task 4 - Analyzing Oil Price \n",
    "## Task 5 - Analyzing BSE_Index\n",
    "## Task 6 - Analyzing Gold Price\n",
    "\n",
    "##  Final Observation\n",
    "________________________________________________________________________________\n"
   ]
  },
  {
   "cell_type": "markdown",
   "metadata": {},
   "source": [
    "# Task 1: Importing required libraries "
   ]
  },
  {
   "cell_type": "code",
   "execution_count": 2,
   "metadata": {},
   "outputs": [],
   "source": [
    "import pandas as pd\n",
    "import numpy as np\n",
    "import seaborn as sns\n",
    "import matplotlib.pyplot as plt\n",
    "%matplotlib inline"
   ]
  },
  {
   "cell_type": "code",
   "execution_count": 3,
   "metadata": {},
   "outputs": [
    {
     "data": {
      "text/html": [
       "<div>\n",
       "<style scoped>\n",
       "    .dataframe tbody tr th:only-of-type {\n",
       "        vertical-align: middle;\n",
       "    }\n",
       "\n",
       "    .dataframe tbody tr th {\n",
       "        vertical-align: top;\n",
       "    }\n",
       "\n",
       "    .dataframe thead th {\n",
       "        text-align: right;\n",
       "    }\n",
       "</style>\n",
       "<table border=\"1\" class=\"dataframe\">\n",
       "  <thead>\n",
       "    <tr style=\"text-align: right;\">\n",
       "      <th></th>\n",
       "      <th>Year</th>\n",
       "      <th>Month</th>\n",
       "      <th>BSE_Index</th>\n",
       "      <th>Gold_Mumbai</th>\n",
       "      <th>Gold_London</th>\n",
       "      <th>Oil_Price</th>\n",
       "      <th>Oil_Price_Change</th>\n",
       "    </tr>\n",
       "  </thead>\n",
       "  <tbody>\n",
       "    <tr>\n",
       "      <th>0</th>\n",
       "      <td>1991</td>\n",
       "      <td>JAN</td>\n",
       "      <td>1220.41</td>\n",
       "      <td>3534.78</td>\n",
       "      <td>2205.91</td>\n",
       "      <td>19.40</td>\n",
       "      <td>-0.1797</td>\n",
       "    </tr>\n",
       "    <tr>\n",
       "      <th>1</th>\n",
       "      <td>1991</td>\n",
       "      <td>FEB</td>\n",
       "      <td>1167.97</td>\n",
       "      <td>3520.70</td>\n",
       "      <td>2256.06</td>\n",
       "      <td>19.45</td>\n",
       "      <td>0.0026</td>\n",
       "    </tr>\n",
       "    <tr>\n",
       "      <th>2</th>\n",
       "      <td>1991</td>\n",
       "      <td>MAR</td>\n",
       "      <td>1235.11</td>\n",
       "      <td>3583.35</td>\n",
       "      <td>2294.56</td>\n",
       "      <td>19.25</td>\n",
       "      <td>-0.0103</td>\n",
       "    </tr>\n",
       "    <tr>\n",
       "      <th>3</th>\n",
       "      <td>1991</td>\n",
       "      <td>APR</td>\n",
       "      <td>1307.34</td>\n",
       "      <td>3750.77</td>\n",
       "      <td>2362.66</td>\n",
       "      <td>19.30</td>\n",
       "      <td>0.0026</td>\n",
       "    </tr>\n",
       "    <tr>\n",
       "      <th>4</th>\n",
       "      <td>1991</td>\n",
       "      <td>MAY</td>\n",
       "      <td>1269.91</td>\n",
       "      <td>3733.87</td>\n",
       "      <td>2477.25</td>\n",
       "      <td>18.20</td>\n",
       "      <td>-0.0570</td>\n",
       "    </tr>\n",
       "  </tbody>\n",
       "</table>\n",
       "</div>"
      ],
      "text/plain": [
       "   Year Month  BSE_Index  Gold_Mumbai  Gold_London  Oil_Price  \\\n",
       "0  1991   JAN    1220.41      3534.78      2205.91      19.40   \n",
       "1  1991   FEB    1167.97      3520.70      2256.06      19.45   \n",
       "2  1991   MAR    1235.11      3583.35      2294.56      19.25   \n",
       "3  1991   APR    1307.34      3750.77      2362.66      19.30   \n",
       "4  1991   MAY    1269.91      3733.87      2477.25      18.20   \n",
       "\n",
       "   Oil_Price_Change  \n",
       "0           -0.1797  \n",
       "1            0.0026  \n",
       "2           -0.0103  \n",
       "3            0.0026  \n",
       "4           -0.0570  "
      ]
     },
     "execution_count": 3,
     "metadata": {},
     "output_type": "execute_result"
    }
   ],
   "source": [
    "data = pd.read_csv(\"CapstoneProject.csv\")\n",
    "data.head()"
   ]
  },
  {
   "cell_type": "markdown",
   "metadata": {},
   "source": [
    "# Task 2: Checking for null values "
   ]
  },
  {
   "cell_type": "code",
   "execution_count": 5,
   "metadata": {},
   "outputs": [
    {
     "data": {
      "text/plain": [
       "Year                0\n",
       "Month               0\n",
       "BSE_Index           0\n",
       "Gold_Mumbai         0\n",
       "Gold_London         0\n",
       "Oil_Price           0\n",
       "Oil_Price_Change    0\n",
       "Gold_Mum-Lon        0\n",
       "dtype: int64"
      ]
     },
     "execution_count": 5,
     "metadata": {},
     "output_type": "execute_result"
    }
   ],
   "source": [
    "data.isnull().sum()"
   ]
  },
  {
   "cell_type": "markdown",
   "metadata": {},
   "source": [
    "# Task 3: Adding new column"
   ]
  },
  {
   "cell_type": "markdown",
   "metadata": {},
   "source": [
    "### Gold price difference between Mumbai and London"
   ]
  },
  {
   "cell_type": "code",
   "execution_count": 4,
   "metadata": {},
   "outputs": [
    {
     "data": {
      "text/html": [
       "<div>\n",
       "<style scoped>\n",
       "    .dataframe tbody tr th:only-of-type {\n",
       "        vertical-align: middle;\n",
       "    }\n",
       "\n",
       "    .dataframe tbody tr th {\n",
       "        vertical-align: top;\n",
       "    }\n",
       "\n",
       "    .dataframe thead th {\n",
       "        text-align: right;\n",
       "    }\n",
       "</style>\n",
       "<table border=\"1\" class=\"dataframe\">\n",
       "  <thead>\n",
       "    <tr style=\"text-align: right;\">\n",
       "      <th></th>\n",
       "      <th>Year</th>\n",
       "      <th>Month</th>\n",
       "      <th>BSE_Index</th>\n",
       "      <th>Gold_Mumbai</th>\n",
       "      <th>Gold_London</th>\n",
       "      <th>Oil_Price</th>\n",
       "      <th>Oil_Price_Change</th>\n",
       "      <th>Gold_Mum-Lon</th>\n",
       "    </tr>\n",
       "  </thead>\n",
       "  <tbody>\n",
       "    <tr>\n",
       "      <th>0</th>\n",
       "      <td>1991</td>\n",
       "      <td>JAN</td>\n",
       "      <td>1220.41</td>\n",
       "      <td>3534.78</td>\n",
       "      <td>2205.91</td>\n",
       "      <td>19.40</td>\n",
       "      <td>-0.1797</td>\n",
       "      <td>1328.87</td>\n",
       "    </tr>\n",
       "    <tr>\n",
       "      <th>1</th>\n",
       "      <td>1991</td>\n",
       "      <td>FEB</td>\n",
       "      <td>1167.97</td>\n",
       "      <td>3520.70</td>\n",
       "      <td>2256.06</td>\n",
       "      <td>19.45</td>\n",
       "      <td>0.0026</td>\n",
       "      <td>1264.64</td>\n",
       "    </tr>\n",
       "    <tr>\n",
       "      <th>2</th>\n",
       "      <td>1991</td>\n",
       "      <td>MAR</td>\n",
       "      <td>1235.11</td>\n",
       "      <td>3583.35</td>\n",
       "      <td>2294.56</td>\n",
       "      <td>19.25</td>\n",
       "      <td>-0.0103</td>\n",
       "      <td>1288.79</td>\n",
       "    </tr>\n",
       "    <tr>\n",
       "      <th>3</th>\n",
       "      <td>1991</td>\n",
       "      <td>APR</td>\n",
       "      <td>1307.34</td>\n",
       "      <td>3750.77</td>\n",
       "      <td>2362.66</td>\n",
       "      <td>19.30</td>\n",
       "      <td>0.0026</td>\n",
       "      <td>1388.11</td>\n",
       "    </tr>\n",
       "    <tr>\n",
       "      <th>4</th>\n",
       "      <td>1991</td>\n",
       "      <td>MAY</td>\n",
       "      <td>1269.91</td>\n",
       "      <td>3733.87</td>\n",
       "      <td>2477.25</td>\n",
       "      <td>18.20</td>\n",
       "      <td>-0.0570</td>\n",
       "      <td>1256.62</td>\n",
       "    </tr>\n",
       "  </tbody>\n",
       "</table>\n",
       "</div>"
      ],
      "text/plain": [
       "   Year Month  BSE_Index  Gold_Mumbai  Gold_London  Oil_Price  \\\n",
       "0  1991   JAN    1220.41      3534.78      2205.91      19.40   \n",
       "1  1991   FEB    1167.97      3520.70      2256.06      19.45   \n",
       "2  1991   MAR    1235.11      3583.35      2294.56      19.25   \n",
       "3  1991   APR    1307.34      3750.77      2362.66      19.30   \n",
       "4  1991   MAY    1269.91      3733.87      2477.25      18.20   \n",
       "\n",
       "   Oil_Price_Change  Gold_Mum-Lon  \n",
       "0           -0.1797       1328.87  \n",
       "1            0.0026       1264.64  \n",
       "2           -0.0103       1288.79  \n",
       "3            0.0026       1388.11  \n",
       "4           -0.0570       1256.62  "
      ]
     },
     "execution_count": 4,
     "metadata": {},
     "output_type": "execute_result"
    }
   ],
   "source": [
    "data['Gold_Mum-Lon'] = data['Gold_Mumbai'] - data['Gold_London']\n",
    "data.head()\n",
    "\n"
   ]
  },
  {
   "cell_type": "markdown",
   "metadata": {},
   "source": [
    "# Task 4: Analyze Oil Price"
   ]
  },
  {
   "cell_type": "code",
   "execution_count": 5,
   "metadata": {
    "scrolled": false
   },
   "outputs": [
    {
     "data": {
      "image/png": "[encoded data removed]",
      "text/plain": [
       "<Figure size 1080x1080 with 1 Axes>"
      ]
     },
     "metadata": {
      "needs_background": "light"
     },
     "output_type": "display_data"
    }
   ],
   "source": [
    "plt.figure(figsize=(15,15))\n",
    "sns.boxplot(x = 'Year', y = 'Oil_Price', data = data)\n",
    "plt.grid(axis='x')"
   ]
  },
  {
   "cell_type": "code",
   "execution_count": 6,
   "metadata": {
    "scrolled": false
   },
   "outputs": [
    {
     "data": {
      "image/png": "[encoded data removed]",
      "text/plain": [
       "<Figure size 720x360 with 1 Axes>"
      ]
     },
     "metadata": {
      "needs_background": "light"
     },
     "output_type": "display_data"
    }
   ],
   "source": [
    "fig, ax = plt.subplots(figsize=(10, 5))\n",
    "fig.subplots_adjust(hspace=0.4)\n",
    "x = data['Year']\n",
    "y = data['Oil_Price']\n",
    "ax.bar(x ,y , label='Oil Price',color='b')\n",
    "ax.set_title(\"Oil Price\")\n",
    "ax.legend()\n",
    "ax.set_xlabel('Year')\n",
    "ax.set_ylabel('Oil Price')\n",
    "ax.grid(axis='y')"
   ]
  },
  {
   "cell_type": "markdown",
   "metadata": {},
   "source": [
    "# Observation: OIL \n",
    "    In year 1991, 2011, 2019 there is extreme rise(outliner) in price. \n",
    "    In year 1934, 2014, 2016 there is extreme fall (outliner) in price.\n",
    "    In year 2012 both extreme rise n fall had senn (outliner) in price.\n",
    "    over all the prices are rising. \n",
    "    ________________________________________________________________________________________________________________________"
   ]
  },
  {
   "cell_type": "markdown",
   "metadata": {},
   "source": [
    "# Task 5: Analyze BSE_Index"
   ]
  },
  {
   "cell_type": "code",
   "execution_count": 7,
   "metadata": {},
   "outputs": [
    {
     "data": {
      "image/png": "[encoded data removed]",
      "text/plain": [
       "<Figure size 1440x1080 with 1 Axes>"
      ]
     },
     "metadata": {
      "needs_background": "light"
     },
     "output_type": "display_data"
    }
   ],
   "source": [
    "plt.figure(figsize=(20,15))\n",
    "sns.boxplot(x = 'Year', y = 'BSE_Index', data = data)\n",
    "plt.grid(axis='x')"
   ]
  },
  {
   "cell_type": "code",
   "execution_count": 8,
   "metadata": {},
   "outputs": [
    {
     "data": {
      "image/png": "[encoded data removed]",
      "text/plain": [
       "<Figure size 720x360 with 1 Axes>"
      ]
     },
     "metadata": {
      "needs_background": "light"
     },
     "output_type": "display_data"
    }
   ],
   "source": [
    "fig, ax = plt.subplots( figsize=(10, 5))\n",
    "x = data['Year']\n",
    "y1 = data['BSE_Index']\n",
    "ax.bar(x ,y1 , label='BSE INDEX',color='orange')\n",
    "ax.set_title(\"BSE Index\")\n",
    "ax.legend()\n",
    "ax.set_xlabel('Year')\n",
    "ax.set_ylabel('BSE Index')\n",
    "ax.grid(axis='y')"
   ]
  },
  {
   "cell_type": "markdown",
   "metadata": {},
   "source": [
    " # Observation BSE Index\n",
    "    In year 1992, 1993 there is extreme rise(outliner) in BSE Index.\n",
    "    In year 2009, 2016 there is extreme fall (outliner) in BSE Index.\n",
    "    In year 1997, 2001, 2018 both extreme rise n fall had senn (outliner) in BSE Index. "
   ]
  },
  {
   "cell_type": "code",
   "execution_count": null,
   "metadata": {},
   "outputs": [],
   "source": []
  },
  {
   "cell_type": "markdown",
   "metadata": {},
   "source": [
    "# Comparing Gold Price of \"London and Mumbai\""
   ]
  },
  {
   "cell_type": "code",
   "execution_count": 9,
   "metadata": {},
   "outputs": [
    {
     "data": {
      "image/png": "[encoded data removed]",
      "text/plain": [
       "<Figure size 1440x1080 with 1 Axes>"
      ]
     },
     "metadata": {
      "needs_background": "light"
     },
     "output_type": "display_data"
    }
   ],
   "source": [
    "plt.figure(figsize=(20,15))\n",
    "sns.boxplot(x = 'Year', y = 'Gold_Mumbai', data = data)\n",
    "plt.grid(axis='x')"
   ]
  },
  {
   "cell_type": "code",
   "execution_count": 10,
   "metadata": {},
   "outputs": [
    {
     "data": {
      "image/png": "[encoded data removed]",
      "text/plain": [
       "<Figure size 1440x1080 with 1 Axes>"
      ]
     },
     "metadata": {
      "needs_background": "light"
     },
     "output_type": "display_data"
    }
   ],
   "source": [
    "plt.figure(figsize=(20,15))\n",
    "sns.boxplot(x = 'Year', y = 'Gold_London', data = data)\n",
    "plt.grid(axis='x')"
   ]
  },
  {
   "cell_type": "code",
   "execution_count": null,
   "metadata": {},
   "outputs": [],
   "source": []
  },
  {
   "cell_type": "code",
   "execution_count": 11,
   "metadata": {},
   "outputs": [
    {
     "data": {
      "text/plain": [
       "[]"
      ]
     },
     "execution_count": 11,
     "metadata": {},
     "output_type": "execute_result"
    },
    {
     "data": {
      "image/png": "[encoded data removed]",
      "text/plain": [
       "<Figure size 1080x720 with 2 Axes>"
      ]
     },
     "metadata": {
      "needs_background": "light"
     },
     "output_type": "display_data"
    }
   ],
   "source": [
    "fig, ax = plt.subplots(nrows=2, figsize=(15, 10))\n",
    "fig.subplots_adjust(hspace=0.4)\n",
    "x = data['Year']\n",
    "y = data['Gold_Mumbai']\n",
    "y1 = data['Gold_London']\n",
    "ax[0].bar(x ,y , label='Gold_Mumbai',color='b')\n",
    "ax[0].bar(x ,y1 ,label='Gold_London', color='g')\n",
    "ax[0].set_title(\"Real Price Comparison \")\n",
    "ax[0].legend()\n",
    "ax[0].grid(axis='y')\n",
    "\n",
    "ax[0].set_xlabel('Year')\n",
    "ax[0].set_ylabel('Gold_Price')\n",
    "\n",
    "y2 = data['Gold_Mum-Lon']\n",
    "ax[1].bar(x ,y2 , label='Gold Price Difference (Mumbai-London)',color='y')\n",
    "ax[1].set_title(\"Gold Price Difference (Mumbai-London) \")\n",
    "ax[1].set_xlabel('Year')\n",
    "ax[1].set_ylabel('Price Difference')\n",
    "ax[1].legend()\n",
    "ax[1].grid(axis='y')\n",
    "plt.plot()\n",
    "\n"
   ]
  },
  {
   "cell_type": "code",
   "execution_count": 21,
   "metadata": {
    "scrolled": true
   },
   "outputs": [
    {
     "data": {
      "text/plain": [
       "Year\n",
       "1991     2702.329167\n",
       "1992     3276.675833\n",
       "1993     3689.802500\n",
       "1994     3866.555000\n",
       "1995     4066.445833\n",
       "1996     4376.343333\n",
       "1997     3824.588333\n",
       "1998     3923.314167\n",
       "1999     3864.378333\n",
       "2000     4037.165000\n",
       "2001     4146.255833\n",
       "2002     4937.799167\n",
       "2003     5486.285000\n",
       "2004     5953.240833\n",
       "2005     6470.992500\n",
       "2006     8902.830000\n",
       "2007     9426.638333\n",
       "2008    12329.592500\n",
       "2009    15368.852500\n",
       "2010    18267.116667\n",
       "2011    24225.914167\n",
       "2012    28805.270833\n",
       "2013    26060.567500\n",
       "2014    24854.091667\n",
       "2015    23813.819167\n",
       "2016    27159.353333\n",
       "2017    26404.153333\n",
       "2018    28042.363568\n",
       "2019    32071.458823\n",
       "Name: Gold_London, dtype: float64"
      ]
     },
     "execution_count": 21,
     "metadata": {},
     "output_type": "execute_result"
    }
   ],
   "source": [
    "Gm_mean = data['Gold_Mumbai'].groupby(data['Year']).mean()\n",
    "GL_mean = data['Gold_London'].groupby(data['Year']).mean()\n",
    "\n",
    "GL_mean\n"
   ]
  },
  {
   "cell_type": "markdown",
   "metadata": {},
   "source": [
    "# Observation GOLD\n",
    "### Gold Mumbai\n",
    "\n",
    "    In year 1992, 2000, 2002 there is extreme rise (outline) in Gold Price.\n",
    "    In year 1993, 1998 there extreme fall (outline) in Gold Price.\n",
    "    In year  1996, 2006 there is extreme rise(outline) in Gold Price.\n",
    "    \n",
    "### Gold London\n",
    "    In year 2004, 2002, 2004, 2007, 2018 there is extreme rise (outline) in Gold Price.\n",
    "    In year 1998 there extreme fall (outline) in Gold Price.\n",
    "    In year  1992, 1996, 2006 there is extreme rise (outline) in Gold Price.\n",
    "    \n",
    "### Gold price of Mumbai is always higher than that of the London's except the year 2009.\n",
    "    \n",
    "   ## If the invester like to invest in the Gold it should be the GOLD_Mumbai.\n",
    "   \n",
    "    "
   ]
  },
  {
   "cell_type": "code",
   "execution_count": 13,
   "metadata": {},
   "outputs": [
    {
     "data": {
      "text/html": [
       "<div>\n",
       "<style scoped>\n",
       "    .dataframe tbody tr th:only-of-type {\n",
       "        vertical-align: middle;\n",
       "    }\n",
       "\n",
       "    .dataframe tbody tr th {\n",
       "        vertical-align: top;\n",
       "    }\n",
       "\n",
       "    .dataframe thead th {\n",
       "        text-align: right;\n",
       "    }\n",
       "</style>\n",
       "<table border=\"1\" class=\"dataframe\">\n",
       "  <thead>\n",
       "    <tr style=\"text-align: right;\">\n",
       "      <th></th>\n",
       "      <th>Year</th>\n",
       "      <th>Month</th>\n",
       "      <th>BSE_Index</th>\n",
       "      <th>Gold_Mumbai</th>\n",
       "      <th>Gold_London</th>\n",
       "      <th>Oil_Price</th>\n",
       "      <th>Oil_Price_Change</th>\n",
       "      <th>Gold_Mum-Lon</th>\n",
       "    </tr>\n",
       "  </thead>\n",
       "  <tbody>\n",
       "    <tr>\n",
       "      <th>0</th>\n",
       "      <td>1991</td>\n",
       "      <td>JAN</td>\n",
       "      <td>1220.41</td>\n",
       "      <td>3534.78</td>\n",
       "      <td>2205.91</td>\n",
       "      <td>19.40</td>\n",
       "      <td>-0.1797</td>\n",
       "      <td>1328.87</td>\n",
       "    </tr>\n",
       "    <tr>\n",
       "      <th>1</th>\n",
       "      <td>1991</td>\n",
       "      <td>FEB</td>\n",
       "      <td>1167.97</td>\n",
       "      <td>3520.70</td>\n",
       "      <td>2256.06</td>\n",
       "      <td>19.45</td>\n",
       "      <td>0.0026</td>\n",
       "      <td>1264.64</td>\n",
       "    </tr>\n",
       "    <tr>\n",
       "      <th>2</th>\n",
       "      <td>1991</td>\n",
       "      <td>MAR</td>\n",
       "      <td>1235.11</td>\n",
       "      <td>3583.35</td>\n",
       "      <td>2294.56</td>\n",
       "      <td>19.25</td>\n",
       "      <td>-0.0103</td>\n",
       "      <td>1288.79</td>\n",
       "    </tr>\n",
       "    <tr>\n",
       "      <th>3</th>\n",
       "      <td>1991</td>\n",
       "      <td>APR</td>\n",
       "      <td>1307.34</td>\n",
       "      <td>3750.77</td>\n",
       "      <td>2362.66</td>\n",
       "      <td>19.30</td>\n",
       "      <td>0.0026</td>\n",
       "      <td>1388.11</td>\n",
       "    </tr>\n",
       "    <tr>\n",
       "      <th>4</th>\n",
       "      <td>1991</td>\n",
       "      <td>MAY</td>\n",
       "      <td>1269.91</td>\n",
       "      <td>3733.87</td>\n",
       "      <td>2477.25</td>\n",
       "      <td>18.20</td>\n",
       "      <td>-0.0570</td>\n",
       "      <td>1256.62</td>\n",
       "    </tr>\n",
       "  </tbody>\n",
       "</table>\n",
       "</div>"
      ],
      "text/plain": [
       "   Year Month  BSE_Index  Gold_Mumbai  Gold_London  Oil_Price  \\\n",
       "0  1991   JAN    1220.41      3534.78      2205.91      19.40   \n",
       "1  1991   FEB    1167.97      3520.70      2256.06      19.45   \n",
       "2  1991   MAR    1235.11      3583.35      2294.56      19.25   \n",
       "3  1991   APR    1307.34      3750.77      2362.66      19.30   \n",
       "4  1991   MAY    1269.91      3733.87      2477.25      18.20   \n",
       "\n",
       "   Oil_Price_Change  Gold_Mum-Lon  \n",
       "0           -0.1797       1328.87  \n",
       "1            0.0026       1264.64  \n",
       "2           -0.0103       1288.79  \n",
       "3            0.0026       1388.11  \n",
       "4           -0.0570       1256.62  "
      ]
     },
     "execution_count": 13,
     "metadata": {},
     "output_type": "execute_result"
    }
   ],
   "source": [
    "data.head()"
   ]
  },
  {
   "cell_type": "code",
   "execution_count": 7,
   "metadata": {},
   "outputs": [
    {
     "data": {
      "text/html": [
       "<div>\n",
       "<style scoped>\n",
       "    .dataframe tbody tr th:only-of-type {\n",
       "        vertical-align: middle;\n",
       "    }\n",
       "\n",
       "    .dataframe tbody tr th {\n",
       "        vertical-align: top;\n",
       "    }\n",
       "\n",
       "    .dataframe thead th {\n",
       "        text-align: right;\n",
       "    }\n",
       "</style>\n",
       "<table border=\"1\" class=\"dataframe\">\n",
       "  <thead>\n",
       "    <tr style=\"text-align: right;\">\n",
       "      <th></th>\n",
       "      <th>Year</th>\n",
       "      <th>Month</th>\n",
       "      <th>BSE_Index</th>\n",
       "      <th>Gold_Mumbai</th>\n",
       "      <th>Gold_London</th>\n",
       "      <th>Oil_Price</th>\n",
       "      <th>Oil_Price_Change</th>\n",
       "      <th>Gold_Mum-Lon</th>\n",
       "    </tr>\n",
       "  </thead>\n",
       "  <tbody>\n",
       "    <tr>\n",
       "      <th>216</th>\n",
       "      <td>2009</td>\n",
       "      <td>JAN</td>\n",
       "      <td>8891.61</td>\n",
       "      <td>14800.22</td>\n",
       "      <td>14955.10</td>\n",
       "      <td>43.24</td>\n",
       "      <td>-0.0361</td>\n",
       "      <td>-154.88</td>\n",
       "    </tr>\n",
       "    <tr>\n",
       "      <th>217</th>\n",
       "      <td>2009</td>\n",
       "      <td>FEB</td>\n",
       "      <td>9708.50</td>\n",
       "      <td>15232.20</td>\n",
       "      <td>15235.02</td>\n",
       "      <td>46.84</td>\n",
       "      <td>0.0833</td>\n",
       "      <td>-2.82</td>\n",
       "    </tr>\n",
       "    <tr>\n",
       "      <th>218</th>\n",
       "      <td>2009</td>\n",
       "      <td>MAR</td>\n",
       "      <td>11403.25</td>\n",
       "      <td>14474.57</td>\n",
       "      <td>14350.03</td>\n",
       "      <td>50.85</td>\n",
       "      <td>0.0856</td>\n",
       "      <td>124.54</td>\n",
       "    </tr>\n",
       "    <tr>\n",
       "      <th>219</th>\n",
       "      <td>2009</td>\n",
       "      <td>APR</td>\n",
       "      <td>14625.25</td>\n",
       "      <td>14620.83</td>\n",
       "      <td>14468.11</td>\n",
       "      <td>57.94</td>\n",
       "      <td>0.1394</td>\n",
       "      <td>152.72</td>\n",
       "    </tr>\n",
       "    <tr>\n",
       "      <th>220</th>\n",
       "      <td>2009</td>\n",
       "      <td>MAY</td>\n",
       "      <td>14493.84</td>\n",
       "      <td>14638.85</td>\n",
       "      <td>14529.73</td>\n",
       "      <td>68.62</td>\n",
       "      <td>0.1843</td>\n",
       "      <td>109.12</td>\n",
       "    </tr>\n",
       "    <tr>\n",
       "      <th>221</th>\n",
       "      <td>2009</td>\n",
       "      <td>JUN</td>\n",
       "      <td>15670.31</td>\n",
       "      <td>14720.37</td>\n",
       "      <td>14540.18</td>\n",
       "      <td>64.91</td>\n",
       "      <td>-0.0541</td>\n",
       "      <td>180.19</td>\n",
       "    </tr>\n",
       "    <tr>\n",
       "      <th>222</th>\n",
       "      <td>2009</td>\n",
       "      <td>JUL</td>\n",
       "      <td>15666.64</td>\n",
       "      <td>14952.08</td>\n",
       "      <td>14754.61</td>\n",
       "      <td>72.50</td>\n",
       "      <td>0.1169</td>\n",
       "      <td>197.47</td>\n",
       "    </tr>\n",
       "    <tr>\n",
       "      <th>223</th>\n",
       "      <td>2009</td>\n",
       "      <td>AUG</td>\n",
       "      <td>17126.84</td>\n",
       "      <td>15722.61</td>\n",
       "      <td>15520.35</td>\n",
       "      <td>67.69</td>\n",
       "      <td>-0.0663</td>\n",
       "      <td>202.26</td>\n",
       "    </tr>\n",
       "    <tr>\n",
       "      <th>224</th>\n",
       "      <td>2009</td>\n",
       "      <td>SEP</td>\n",
       "      <td>15896.28</td>\n",
       "      <td>15882.39</td>\n",
       "      <td>15672.10</td>\n",
       "      <td>73.19</td>\n",
       "      <td>0.0813</td>\n",
       "      <td>210.29</td>\n",
       "    </tr>\n",
       "    <tr>\n",
       "      <th>225</th>\n",
       "      <td>2009</td>\n",
       "      <td>OCT</td>\n",
       "      <td>16926.22</td>\n",
       "      <td>17056.80</td>\n",
       "      <td>16874.27</td>\n",
       "      <td>77.04</td>\n",
       "      <td>0.0526</td>\n",
       "      <td>182.53</td>\n",
       "    </tr>\n",
       "    <tr>\n",
       "      <th>226</th>\n",
       "      <td>2009</td>\n",
       "      <td>NOV</td>\n",
       "      <td>17464.81</td>\n",
       "      <td>17159.42</td>\n",
       "      <td>17003.97</td>\n",
       "      <td>74.67</td>\n",
       "      <td>-0.0308</td>\n",
       "      <td>155.45</td>\n",
       "    </tr>\n",
       "    <tr>\n",
       "      <th>227</th>\n",
       "      <td>2009</td>\n",
       "      <td>DEC</td>\n",
       "      <td>16357.96</td>\n",
       "      <td>16705.80</td>\n",
       "      <td>16522.76</td>\n",
       "      <td>76.37</td>\n",
       "      <td>0.0228</td>\n",
       "      <td>183.04</td>\n",
       "    </tr>\n",
       "  </tbody>\n",
       "</table>\n",
       "</div>"
      ],
      "text/plain": [
       "     Year Month  BSE_Index  Gold_Mumbai  Gold_London  Oil_Price  \\\n",
       "216  2009   JAN    8891.61     14800.22     14955.10      43.24   \n",
       "217  2009   FEB    9708.50     15232.20     15235.02      46.84   \n",
       "218  2009   MAR   11403.25     14474.57     14350.03      50.85   \n",
       "219  2009   APR   14625.25     14620.83     14468.11      57.94   \n",
       "220  2009   MAY   14493.84     14638.85     14529.73      68.62   \n",
       "221  2009   JUN   15670.31     14720.37     14540.18      64.91   \n",
       "222  2009   JUL   15666.64     14952.08     14754.61      72.50   \n",
       "223  2009   AUG   17126.84     15722.61     15520.35      67.69   \n",
       "224  2009   SEP   15896.28     15882.39     15672.10      73.19   \n",
       "225  2009   OCT   16926.22     17056.80     16874.27      77.04   \n",
       "226  2009   NOV   17464.81     17159.42     17003.97      74.67   \n",
       "227  2009   DEC   16357.96     16705.80     16522.76      76.37   \n",
       "\n",
       "     Oil_Price_Change  Gold_Mum-Lon  \n",
       "216           -0.0361       -154.88  \n",
       "217            0.0833         -2.82  \n",
       "218            0.0856        124.54  \n",
       "219            0.1394        152.72  \n",
       "220            0.1843        109.12  \n",
       "221           -0.0541        180.19  \n",
       "222            0.1169        197.47  \n",
       "223           -0.0663        202.26  \n",
       "224            0.0813        210.29  \n",
       "225            0.0526        182.53  \n",
       "226           -0.0308        155.45  \n",
       "227            0.0228        183.04  "
      ]
     },
     "execution_count": 7,
     "metadata": {},
     "output_type": "execute_result"
    }
   ],
   "source": [
    "data[data['Year'] == 2009]"
   ]
  },
  {
   "cell_type": "markdown",
   "metadata": {},
   "source": [
    "# Final Observations:\n",
    "\n",
    "## Observation BSE Index\n",
    "    In year 1992, 1993 there is extreme rise(outliner) in BSE Index.\n",
    "    In year 2009, 2016 there is extreme fall (outliner) in BSE Index.\n",
    "    In year 1997, 2001, 2018 both extreme rise n fall had senn (outliner) in BSE Index. \n",
    "    \n",
    "    \n",
    "## Observation: OIL \n",
    "    In year 1991, 2011, 2019 there is extreme rise(outliner) in price. \n",
    "    In year 1934, 2014, 2016 there is extreme fall (outliner) in price.\n",
    "    In year 2012 both extreme rise n fall had senn (outliner) in price.\n",
    "    over all the prices are rising. \n",
    "    \n",
    "## Observation GOLD\n",
    "\n",
    "### Gold Mumbai\n",
    "    In year 1992, 2000, 2002 there is extreme rise (outline) in Gold Price.\n",
    "    In year 1993, 1998 there extreme fall (outline) in Gold Price.\n",
    "    In year  1996, 2006 there is extreme rise(outline) in Gold Price.\n",
    "\n",
    "### Gold London\n",
    "    In year 2004, 2002, 2004, 2007, 2018 there is extreme rise (outline) in Gold Price.\n",
    "    In year 1998 there extreme fall (outline) in Gold Price.\n",
    "    In year  1992, 1996, 2006 there is extreme rise (outline) in Gold Price.\n",
    "##### Gold price of Mumbai is always higher than that of the London's except the year 2009. \n",
    " \n",
    " \n",
    " \n",
    "#### There is maximum profit in Gold_Mumbai with minimum risk as shown in respected boxplot.\n",
    "\n",
    "### According to my opinion Investment should be made in following priority order:\n",
    "#### Gold_Mumbai > BSE_Index > Gold_London > Oil\n",
    "\n",
    "\n",
    "# Gold_Mumbai Would be the best Choice \n"
   ]
  },
  {
   "cell_type": "code",
   "execution_count": null,
   "metadata": {},
   "outputs": [],
   "source": []
  }
 ],
 "metadata": {
  "kernelspec": {
   "display_name": "Python 3",
   "language": "python",
   "name": "python3"
  },
  "language_info": {
   "codemirror_mode": {
    "name": "ipython",
    "version": 3
   },
   "file_extension": ".py",
   "mimetype": "text/x-python",
   "name": "python",
   "nbconvert_exporter": "python",
   "pygments_lexer": "ipython3",
   "version": "3.8.3"
  }
 },
 "nbformat": 4,
 "nbformat_minor": 4
}
